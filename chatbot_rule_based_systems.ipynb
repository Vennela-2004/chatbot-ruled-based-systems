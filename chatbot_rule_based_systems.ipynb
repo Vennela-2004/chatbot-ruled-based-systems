{
  "nbformat": 4,
  "nbformat_minor": 0,
  "metadata": {
    "colab": {
      "provenance": []
    },
    "kernelspec": {
      "name": "python3",
      "display_name": "Python 3"
    },
    "language_info": {
      "name": "python"
    }
  },
  "cells": [
    {
      "cell_type": "code",
      "execution_count": null,
      "metadata": {
        "id": "zeJbShVueTFS"
      },
      "outputs": [],
      "source": [
        "import random\n",
        "import re\n",
        "\n",
        "class RuleBot:\n",
        "    ##response\n",
        "    negative_res = (\"no\",\"nope\",\"nah\",\"naw\",\"not a chance\",\"sorry\")\n",
        "    exit_commands = (\"quit\",\"pause\",\"exit\",\"goodbye\",\"bye\",\"later\")\n",
        "\n",
        "\n",
        "    random_question = (\n",
        "        \"why are you here?\",\n",
        "        \"Are there many humans like you?\",\n",
        "        \"what do you consume for sustence?\",\n",
        "        \"Is there Intelligent life on this planet?\",\n",
        "        \"does Earth have a leader ?\"\n",
        "    )\n",
        "\n",
        "    def __init__(self):\n",
        "        self.alienbabble = {\n",
        "            'describe_planet_intent': r'.*\\s*your planet.*',\n",
        "            'answer_why_intent': r'why\\sare.*',\n",
        "            'about_intellipaat': r'.*\\s*intellipaat.*'\n",
        "        }\n",
        "\n",
        "    def greet(self):\n",
        "        self.name = input(\"what is your name ?\\n\")\n",
        "        will_help = input(\n",
        "            f\"Hi {self.name}, I am bot.will you help me learn about your planet?\\n\")\n",
        "        if will_help in self.negative_res:\n",
        "            print(\"have nice earth day!\")\n",
        "            return\n",
        "        self.chat()"
      ]
    },
    {
      "cell_type": "code",
      "source": [
        "import random\n",
        "import re\n",
        "\n",
        "class RuleBot:\n",
        "    ##response\n",
        "    negative_res = (\"no\",\"nope\",\"nah\",\"naw\",\"not a chance\",\"sorry\")\n",
        "    exit_commands = (\"quit\",\"pause\",\"exit\",\"goodbye\",\"bye\",\"later\")\n",
        "\n",
        "\n",
        "    random_question = (\n",
        "        \"why are you here?\",\n",
        "        \"Are there many humans like you?\",\n",
        "        \"what do you consume for sustence?\",\n",
        "        \"Is there Intelligent life on this planet?\",\n",
        "        \"does Earth have a leader ?\"\n",
        "    )\n",
        "\n",
        "    def __init__(self):\n",
        "        self.alienbabble = {\n",
        "            'describe_planet_intent': r'.*\\s*your planet.*',\n",
        "            'answer_why_intent': r'why\\sare.*',\n",
        "            'about_intellipaat': r'.*\\s*intellipaat.*'\n",
        "        }\n",
        "\n",
        "    def greet(self):\n",
        "        self.name = input(\"what is your name ?\\n\")\n",
        "        will_help = input(\n",
        "            f\"Hi {self.name}, I am bot.will you help me learn about your planet?\\n\")\n",
        "        if will_help in self.negative_res:\n",
        "            print(\"have nice earth day!\")\n",
        "            return\n",
        "        self.chat()"
      ],
      "metadata": {
        "id": "y8MctxPPedJM"
      },
      "execution_count": null,
      "outputs": []
    }
  ]
}